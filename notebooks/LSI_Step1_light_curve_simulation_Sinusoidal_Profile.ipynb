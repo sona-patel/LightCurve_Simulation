{
 "cells": [
  {
   "cell_type": "markdown",
   "metadata": {},
   "source": [
    "# Step 1:  Light curve simulation\n"
   ]
  },
  {
   "cell_type": "markdown",
   "metadata": {},
   "source": [
    "## Setup"
   ]
  },
  {
   "cell_type": "code",
   "execution_count": 2,
   "metadata": {},
   "outputs": [],
   "source": [
    "%matplotlib inline\n",
    "import matplotlib.pyplot as plt\n",
    "import numpy as np\n",
    "import astropy.units as u\n",
    "from astropy.coordinates import SkyCoord, Angle, SkyOffsetFrame\n",
    "from astropy.time import Time\n",
    "from regions import CircleSkyRegion\n",
    "\n",
    "import logging\n",
    "\n",
    "log = logging.getLogger(__name__)"
   ]
  },
  {
   "cell_type": "markdown",
   "metadata": {},
   "source": [
    "And some gammapy specific imports"
   ]
  },
  {
   "cell_type": "code",
   "execution_count": 3,
   "metadata": {},
   "outputs": [],
   "source": [
    "from gammapy.data import Observation\n",
    "from gammapy.irf import load_cta_irfs\n",
    "from gammapy.datasets import SpectrumDataset, Datasets\n",
    "from gammapy.modeling.models import (\n",
    "    PowerLawSpectralModel,\n",
    "    ExpDecayTemporalModel,\n",
    "    PointSpatialModel,\n",
    "    SkyModel,\n",
    "    Models,\n",
    ")\n",
    "from gammapy.maps import MapAxis\n",
    "from gammapy.estimators import LightCurveEstimator\n",
    "from gammapy.makers import SpectrumDatasetMaker\n",
    "from gammapy.modeling import Fit\n",
    "from gammapy.modeling.models import LightCurveTemplateTemporalModel"
   ]
  },
  {
   "cell_type": "markdown",
   "metadata": {},
   "source": [
    "## Simulating a light curve\n",
    "\n",
    "We will simulate 10 datasets using an `PowerLawSpectralModel` and a `ExpDecayTemporalModel`. The important thing to note here is how to attach a different `GTI` to each dataset."
   ]
  },
  {
   "cell_type": "code",
   "execution_count": 5,
   "metadata": {},
   "outputs": [],
   "source": [
    "# Loading IRFs\n",
    "irfs = load_cta_irfs(\"/Users/sonal/PostDocWork/SummerStudent_Helena/Prod5-North-20deg-AverageAz-4LSTs09MSTs.18000s-v0.1.fits\")"
   ]
  },
  {
   "cell_type": "code",
   "execution_count": 6,
   "metadata": {},
   "outputs": [],
   "source": [
    "# Reconstructed and true energy axis\n",
    "\n",
    "#center = SkyCoord(0.0, 0.0, unit=\"deg\", frame=\"galactic\")\n",
    "center = SkyCoord(135.67, 01.086, unit=\"deg\", frame=\"galactic\")  #LS I +61° 303\n",
    "\n",
    "energy_axis = MapAxis.from_edges(\n",
    "    np.logspace(-0.5, 1.0, 10), unit=\"TeV\", name=\"energy\", interp=\"log\"\n",
    ")\n",
    "energy_axis_true = MapAxis.from_edges(\n",
    "    np.logspace(-1.2, 2.0, 31), unit=\"TeV\", name=\"energy_true\", interp=\"log\"\n",
    ")\n",
    "\n",
    "on_region_radius = Angle(\"0.11 deg\")\n",
    "on_region = CircleSkyRegion(center=center, radius=on_region_radius)"
   ]
  },
  {
   "cell_type": "code",
   "execution_count": 7,
   "metadata": {},
   "outputs": [],
   "source": [
    "# Pointing position\n",
    "pointing = SkyCoord(135.67+0.5, 01.086+0.5, unit=\"deg\", frame=\"galactic\")\n"
   ]
  },
  {
   "cell_type": "markdown",
   "metadata": {},
   "source": [
    "Note that observations are usually conducted in  Wobble mode, in which the source is not in the center of the camera. This allows to have a symmetrical sky position from which background can be estimated."
   ]
  },
  {
   "cell_type": "code",
   "execution_count": 8,
   "metadata": {},
   "outputs": [
    {
     "name": "stdout",
     "output_type": "stream",
     "text": [
      "LightCurveTemplateTemporalModel model summary:\n",
      "Start time: 59215.0 MJD\n",
      "End time: 59364.69696969697 MJD\n",
      "Norm min: 6.293616306246586e-05\n",
      "Norm max: 0.9999370638369376\n",
      "\n"
     ]
    }
   ],
   "source": [
    "# Define the source model: A combination of spectral and temporal model\n",
    "\n",
    "#gti_t0 = Time('2020-05-31T12:00:00.000')  #PKSB1222+216\n",
    "gti_t0 = Time(\"2021-01-01\") #Ours\n",
    "spectral_model = PowerLawSpectralModel(\n",
    "    index=3, amplitude=\"1e-11 cm-2 s-1 TeV-1\", reference=\"1 TeV\"\n",
    ")\n",
    "\n",
    "\n",
    "temporal_model = LightCurveTemplateTemporalModel.read('TemporalProfile_Sinusoidal_Period30d.fits')\n",
    "\n",
    "model_simu = SkyModel(\n",
    "    spectral_model=spectral_model,\n",
    "    #spatial_model=point_model,\n",
    "    temporal_model=temporal_model,\n",
    "    name=\"model-simu\",\n",
    ")\n",
    "\n",
    "print(temporal_model)"
   ]
  },
  {
   "cell_type": "code",
   "execution_count": 9,
   "metadata": {},
   "outputs": [
    {
     "data": {
      "text/html": [
       "<i>Table length=3</i>\n",
       "<table id=\"table140331052036952\" class=\"table-striped table-bordered table-condensed\">\n",
       "<thead><tr><th>name</th><th>value</th><th>unit</th><th>min</th><th>max</th><th>frozen</th><th>error</th></tr></thead>\n",
       "<thead><tr><th>str9</th><th>float64</th><th>str14</th><th>float64</th><th>float64</th><th>bool</th><th>int64</th></tr></thead>\n",
       "<tr><td>index</td><td>3.0000e+00</td><td></td><td>nan</td><td>nan</td><td>False</td><td>0.000e+00</td></tr>\n",
       "<tr><td>amplitude</td><td>1.0000e-11</td><td>cm-2 s-1 TeV-1</td><td>nan</td><td>nan</td><td>False</td><td>0.000e+00</td></tr>\n",
       "<tr><td>reference</td><td>1.0000e+00</td><td>TeV</td><td>nan</td><td>nan</td><td>True</td><td>0.000e+00</td></tr>\n",
       "</table>"
      ],
      "text/plain": [
       "<Table length=3>\n",
       "   name     value         unit        min     max   frozen   error  \n",
       "   str9    float64       str14      float64 float64  bool    int64  \n",
       "--------- ---------- -------------- ------- ------- ------ ---------\n",
       "    index 3.0000e+00                    nan     nan  False 0.000e+00\n",
       "amplitude 1.0000e-11 cm-2 s-1 TeV-1     nan     nan  False 0.000e+00\n",
       "reference 1.0000e+00            TeV     nan     nan   True 0.000e+00"
      ]
     },
     "execution_count": 9,
     "metadata": {},
     "output_type": "execute_result"
    }
   ],
   "source": [
    "# Look at the model\n",
    "model_simu.parameters.to_table()"
   ]
  },
  {
   "cell_type": "markdown",
   "metadata": {},
   "source": [
    "Now, define the start and observation livetime wrt to the reference time, `gti_t0`"
   ]
  },
  {
   "cell_type": "code",
   "execution_count": 12,
   "metadata": {},
   "outputs": [],
   "source": [
    "n_obs = 30\n",
    "\n",
    "tstart = np.linspace(0,60,30) * u.d\n",
    "lvtm = np.zeros(n_obs)\n",
    "lvtm.fill(60)\n",
    "lvtm = lvtm * u.min\n"
   ]
  },
  {
   "cell_type": "markdown",
   "metadata": {},
   "source": [
    "Now perform the simulations"
   ]
  },
  {
   "cell_type": "code",
   "execution_count": 13,
   "metadata": {},
   "outputs": [],
   "source": [
    "datasets = Datasets()\n",
    "\n",
    "\n",
    "empty = SpectrumDataset.create(\n",
    "    e_reco=energy_axis, e_true=energy_axis_true, region=on_region, name=\"empty\"\n",
    ")\n",
    "\n",
    "maker = SpectrumDatasetMaker(selection=[\"exposure\", \"background\", \"edisp\"])\n",
    "\n",
    "for i in range(n_obs):\n",
    "    obs = Observation.create(\n",
    "        pointing=pointing,\n",
    "        livetime=lvtm[i],\n",
    "        tstart=tstart[i],\n",
    "        irfs=irfs,\n",
    "        reference_time=gti_t0,\n",
    "        obs_id=i,\n",
    "    )\n",
    "    #print(obs)\n",
    "    empty_i = empty.copy(name=f\"dataset_{i}\")\n",
    "    #maker = SpectrumDatasetMaker(selection=[\"aeff\", \"background\", \"edisp\"])\n",
    "    dataset = maker.run(empty_i, obs)\n",
    "    dataset.models = model_simu\n",
    "    dataset.fake()\n",
    "    datasets.append(dataset)"
   ]
  },
  {
   "cell_type": "markdown",
   "metadata": {},
   "source": [
    "The reduced datasets have been successfully simulated. Let's take a quick look into our datasets."
   ]
  },
  {
   "cell_type": "code",
   "execution_count": 14,
   "metadata": {},
   "outputs": [
    {
     "data": {
      "text/html": [
       "<i>Table length=30</i>\n",
       "<table id=\"table140331061709680\" class=\"table-striped table-bordered table-condensed\">\n",
       "<thead><tr><th>name</th><th>counts</th><th>background</th><th>excess</th><th>sqrt_ts</th><th>npred</th><th>npred_background</th><th>npred_signal</th><th>exposure_min</th><th>exposure_max</th><th>livetime</th><th>ontime</th><th>counts_rate</th><th>background_rate</th><th>excess_rate</th><th>n_bins</th><th>n_fit_bins</th><th>stat_type</th><th>stat_sum</th></tr></thead>\n",
       "<thead><tr><th></th><th></th><th></th><th></th><th></th><th></th><th></th><th></th><th>m2 s</th><th>m2 s</th><th>s</th><th>s</th><th>1 / s</th><th>1 / s</th><th>1 / s</th><th></th><th></th><th></th><th></th></tr></thead>\n",
       "<thead><tr><th>str10</th><th>int64</th><th>float64</th><th>float64</th><th>float64</th><th>float64</th><th>float64</th><th>float64</th><th>float64</th><th>float64</th><th>float64</th><th>float64</th><th>float64</th><th>float64</th><th>float64</th><th>int64</th><th>int64</th><th>str4</th><th>float64</th></tr></thead>\n",
       "<tr><td>dataset_0</td><td>357</td><td>18.341005418072154</td><td>338.65899458192786</td><td>37.9770971580763</td><td>353.92934755297483</td><td>18.341005418072154</td><td>335.5883421349027</td><td>342326351.5317853</td><td>3391149743.6206517</td><td>3600.0000000000005</td><td>3600.0000000000005</td><td>0.09916666666666665</td><td>0.0050947237272422645</td><td>0.09407194293942439</td><td>9</td><td>9</td><td>cash</td><td>-2377.0403909468746</td></tr>\n",
       "<tr><td>dataset_1</td><td>471</td><td>18.341005418072005</td><td>452.65899458192797</td><td>46.39126132832486</td><td>494.03877302062284</td><td>18.341005418072005</td><td>475.6977676025508</td><td>342326351.5317825</td><td>3391149743.6206236</td><td>3599.999999999971</td><td>3599.999999999971</td><td>0.13083333333333438</td><td>0.0050947237272422645</td><td>0.12573860960609212</td><td>9</td><td>9</td><td>cash</td><td>-3425.729233530545</td></tr>\n",
       "<tr><td>dataset_2</td><td>680</td><td>18.34100541807215</td><td>661.6589945819278</td><td>59.9191020199358</td><td>607.9123476346858</td><td>18.34100541807215</td><td>589.5713422166135</td><td>342326351.53178525</td><td>3391149743.6206512</td><td>3600.0</td><td>3600.0</td><td>0.18888888888888888</td><td>0.005094723727242264</td><td>0.18379416516164662</td><td>9</td><td>9</td><td>cash</td><td>-5391.476155120445</td></tr>\n",
       "<tr><td>dataset_3</td><td>678</td><td>18.34100541807215</td><td>659.6589945819278</td><td>59.79843527180916</td><td>674.5566413599513</td><td>18.34100541807215</td><td>656.2156359418792</td><td>342326351.53178525</td><td>3391149743.6206512</td><td>3600.0</td><td>3600.0</td><td>0.18833333333333332</td><td>0.005094723727242264</td><td>0.18323860960609106</td><td>9</td><td>9</td><td>cash</td><td>-5346.430174620668</td></tr>\n",
       "<tr><td>dataset_4</td><td>662</td><td>18.341005418071557</td><td>643.6589945819285</td><td>58.827826678658326</td><td>681.6866569416806</td><td>18.341005418071557</td><td>663.3456515236089</td><td>342326351.5317742</td><td>3391149743.6205416</td><td>3599.9999999998836</td><td>3599.9999999998836</td><td>0.18388888888889485</td><td>0.005094723727242264</td><td>0.17879416516165259</td><td>9</td><td>9</td><td>cash</td><td>-5243.461791986674</td></tr>\n",
       "<tr><td>dataset_5</td><td>625</td><td>18.34100541807215</td><td>606.6589945819278</td><td>56.54597655922115</td><td>627.9839933738155</td><td>18.34100541807215</td><td>609.6429879557433</td><td>342326351.53178525</td><td>3391149743.6206512</td><td>3600.0</td><td>3600.0</td><td>0.1736111111111111</td><td>0.005094723727242264</td><td>0.16851638738386884</td><td>9</td><td>9</td><td>cash</td><td>-4916.001672202454</td></tr>\n",
       "<tr><td>dataset_6</td><td>543</td><td>18.34100541807215</td><td>524.6589945819278</td><td>51.283695920628524</td><td>523.337474545119</td><td>18.34100541807215</td><td>504.9964691270468</td><td>342326351.53178525</td><td>3391149743.6206512</td><td>3600.0</td><td>3600.0</td><td>0.15083333333333335</td><td>0.005094723727242264</td><td>0.14573860960609106</td><td>9</td><td>9</td><td>cash</td><td>-4058.8142465325213</td></tr>\n",
       "<tr><td>dataset_7</td><td>389</td><td>18.34100541807215</td><td>370.65899458192786</td><td>40.435583034876075</td><td>387.02201587404903</td><td>18.34100541807215</td><td>368.68101045597695</td><td>342326351.53178525</td><td>3391149743.6206512</td><td>3600.0</td><td>3600.0</td><td>0.10805555555555556</td><td>0.005094723727242264</td><td>0.1029608318283133</td><td>9</td><td>9</td><td>cash</td><td>-2662.2532310035704</td></tr>\n",
       "<tr><td>dataset_8</td><td>263</td><td>18.34100541807215</td><td>244.65899458192786</td><td>30.189861992523188</td><td>244.35771046558114</td><td>18.34100541807215</td><td>226.01670504750896</td><td>342326351.53178525</td><td>3391149743.6206512</td><td>3600.0</td><td>3600.0</td><td>0.07305555555555555</td><td>0.005094723727242264</td><td>0.06796083182831329</td><td>9</td><td>9</td><td>cash</td><td>-1617.1785691970504</td></tr>\n",
       "<tr><td>...</td><td>...</td><td>...</td><td>...</td><td>...</td><td>...</td><td>...</td><td>...</td><td>...</td><td>...</td><td>...</td><td>...</td><td>...</td><td>...</td><td>...</td><td>...</td><td>...</td><td>...</td><td>...</td></tr>\n",
       "<tr><td>dataset_20</td><td>581</td><td>18.34100541807215</td><td>562.6589945819278</td><td>53.75967391575717</td><td>580.950271867645</td><td>18.34100541807215</td><td>562.609266449573</td><td>342326351.53178525</td><td>3391149743.6206512</td><td>3600.0</td><td>3600.0</td><td>0.1613888888888889</td><td>0.005094723727242264</td><td>0.1562941651616466</td><td>9</td><td>9</td><td>cash</td><td>-4498.648953259873</td></tr>\n",
       "<tr><td>dataset_21</td><td>474</td><td>18.34100541806978</td><td>455.65899458193024</td><td>46.60088527397573</td><td>457.5998277227809</td><td>18.34100541806978</td><td>439.2588223047112</td><td>342326351.53174096</td><td>3391149743.6202126</td><td>3599.9999999995343</td><td>3599.9999999995343</td><td>0.1316666666666837</td><td>0.0050947237272422645</td><td>0.12657194293944143</td><td>9</td><td>9</td><td>cash</td><td>-3408.202570534755</td></tr>\n",
       "<tr><td>dataset_22</td><td>291</td><td>18.34100541807215</td><td>272.65899458192786</td><td>32.61038312652605</td><td>314.80874435464114</td><td>18.34100541807215</td><td>296.467738936569</td><td>342326351.53178525</td><td>3391149743.6206512</td><td>3600.0</td><td>3600.0</td><td>0.08083333333333333</td><td>0.005094723727242264</td><td>0.07573860960609106</td><td>9</td><td>9</td><td>cash</td><td>-1805.3147135279976</td></tr>\n",
       "<tr><td>dataset_23</td><td>156</td><td>18.34100541807215</td><td>137.65899458192786</td><td>19.813773687728542</td><td>178.9213920827842</td><td>18.34100541807215</td><td>160.58038666471202</td><td>342326351.53178525</td><td>3391149743.6206512</td><td>3600.0</td><td>3600.0</td><td>0.043333333333333335</td><td>0.005094723727242264</td><td>0.03823860960609107</td><td>9</td><td>9</td><td>cash</td><td>-771.0950209073683</td></tr>\n",
       "<tr><td>dataset_24</td><td>77</td><td>18.34100541807215</td><td>58.65899458192785</td><td>10.179420204492324</td><td>75.09356272132655</td><td>18.34100541807215</td><td>56.752557303254385</td><td>342326351.53178525</td><td>3391149743.6206512</td><td>3600.0</td><td>3600.0</td><td>0.021388888888888888</td><td>0.005094723727242264</td><td>0.016294165161646626</td><td>9</td><td>9</td><td>cash</td><td>-285.05808182941763</td></tr>\n",
       "<tr><td>dataset_25</td><td>17</td><td>18.34100541807215</td><td>-1.3410054180721502</td><td>-0.31706276547989476</td><td>22.621040144612333</td><td>18.34100541807215</td><td>4.280034726540182</td><td>342326351.53178525</td><td>3391149743.6206512</td><td>3600.0</td><td>3600.0</td><td>0.004722222222222222</td><td>0.005094723727242264</td><td>-0.00037250150502004175</td><td>9</td><td>9</td><td>cash</td><td>-13.281877103075429</td></tr>\n",
       "<tr><td>dataset_26</td><td>27</td><td>18.34100541807215</td><td>8.65899458192785</td><td>1.8877712086070377</td><td>31.08326326067866</td><td>18.34100541807215</td><td>12.742257842606506</td><td>342326351.53178525</td><td>3391149743.6206512</td><td>3600.0</td><td>3600.0</td><td>0.0075</td><td>0.005094723727242264</td><td>0.002405276272757736</td><td>9</td><td>9</td><td>cash</td><td>-37.605609169619605</td></tr>\n",
       "<tr><td>dataset_27</td><td>100</td><td>18.34100541807215</td><td>81.65899458192786</td><td>13.26228452260233</td><td>98.90316748197326</td><td>18.34100541807215</td><td>80.5621620639011</td><td>342326351.53178525</td><td>3391149743.6206512</td><td>3600.0</td><td>3600.0</td><td>0.027777777777777776</td><td>0.005094723727242264</td><td>0.022683054050535514</td><td>9</td><td>9</td><td>cash</td><td>-434.90155487047616</td></tr>\n",
       "<tr><td>dataset_28</td><td>203</td><td>18.34100541807215</td><td>184.65899458192786</td><td>24.631952583143715</td><td>213.56751432066656</td><td>18.34100541807215</td><td>195.2265089025944</td><td>342326351.53178525</td><td>3391149743.6206512</td><td>3600.0</td><td>3600.0</td><td>0.05638888888888889</td><td>0.005094723727242264</td><td>0.05129416516164663</td><td>9</td><td>9</td><td>cash</td><td>-1141.3871914852937</td></tr>\n",
       "<tr><td>dataset_29</td><td>355</td><td>18.34100541807215</td><td>336.65899458192786</td><td>37.820586299479224</td><td>353.9293475529261</td><td>18.34100541807215</td><td>335.588342134854</td><td>342326351.53178525</td><td>3391149743.6206512</td><td>3600.0</td><td>3600.0</td><td>0.09861111111111111</td><td>0.005094723727242264</td><td>0.09351638738386885</td><td>9</td><td>9</td><td>cash</td><td>-2402.554093572039</td></tr>\n",
       "</table>"
      ],
      "text/plain": [
       "<Table length=30>\n",
       "   name    counts     background     ... stat_type       stat_sum     \n",
       "                                     ...                              \n",
       "  str10    int64       float64       ...    str4         float64      \n",
       "---------- ------ ------------------ ... --------- -------------------\n",
       " dataset_0    357 18.341005418072154 ...      cash -2377.0403909468746\n",
       " dataset_1    471 18.341005418072005 ...      cash  -3425.729233530545\n",
       " dataset_2    680  18.34100541807215 ...      cash  -5391.476155120445\n",
       " dataset_3    678  18.34100541807215 ...      cash  -5346.430174620668\n",
       " dataset_4    662 18.341005418071557 ...      cash  -5243.461791986674\n",
       " dataset_5    625  18.34100541807215 ...      cash  -4916.001672202454\n",
       " dataset_6    543  18.34100541807215 ...      cash -4058.8142465325213\n",
       " dataset_7    389  18.34100541807215 ...      cash -2662.2532310035704\n",
       " dataset_8    263  18.34100541807215 ...      cash -1617.1785691970504\n",
       "       ...    ...                ... ...       ...                 ...\n",
       "dataset_20    581  18.34100541807215 ...      cash  -4498.648953259873\n",
       "dataset_21    474  18.34100541806978 ...      cash  -3408.202570534755\n",
       "dataset_22    291  18.34100541807215 ...      cash -1805.3147135279976\n",
       "dataset_23    156  18.34100541807215 ...      cash  -771.0950209073683\n",
       "dataset_24     77  18.34100541807215 ...      cash -285.05808182941763\n",
       "dataset_25     17  18.34100541807215 ...      cash -13.281877103075429\n",
       "dataset_26     27  18.34100541807215 ...      cash -37.605609169619605\n",
       "dataset_27    100  18.34100541807215 ...      cash -434.90155487047616\n",
       "dataset_28    203  18.34100541807215 ...      cash -1141.3871914852937\n",
       "dataset_29    355  18.34100541807215 ...      cash  -2402.554093572039"
      ]
     },
     "execution_count": 14,
     "metadata": {},
     "output_type": "execute_result"
    }
   ],
   "source": [
    "datasets.info_table()"
   ]
  },
  {
   "cell_type": "code",
   "execution_count": 15,
   "metadata": {},
   "outputs": [
    {
     "data": {
      "text/plain": [
       "['name',\n",
       " 'counts',\n",
       " 'background',\n",
       " 'excess',\n",
       " 'sqrt_ts',\n",
       " 'npred',\n",
       " 'npred_background',\n",
       " 'npred_signal',\n",
       " 'exposure_min',\n",
       " 'exposure_max',\n",
       " 'livetime',\n",
       " 'ontime',\n",
       " 'counts_rate',\n",
       " 'background_rate',\n",
       " 'excess_rate',\n",
       " 'n_bins',\n",
       " 'n_fit_bins',\n",
       " 'stat_type',\n",
       " 'stat_sum']"
      ]
     },
     "execution_count": 15,
     "metadata": {},
     "output_type": "execute_result"
    }
   ],
   "source": [
    "datasets.info_table().keys()"
   ]
  },
  {
   "cell_type": "code",
   "execution_count": 16,
   "metadata": {},
   "outputs": [
    {
     "name": "stdout",
     "output_type": "stream",
     "text": [
      "336.85899458192813\n"
     ]
    },
    {
     "data": {
      "text/plain": [
       "Text(0, 0.5, 'Excess counts')"
      ]
     },
     "execution_count": 16,
     "metadata": {},
     "output_type": "execute_result"
    },
    {
     "data": {
      "image/png": "[encoded data removed]",
      "text/plain": [
       "<Figure size 432x288 with 1 Axes>"
      ]
     },
     "metadata": {
      "needs_background": "light"
     },
     "output_type": "display_data"
    }
   ],
   "source": [
    "data_table = datasets.info_table()\n",
    "y=data_table['excess']\n",
    "print(np.mean(y))\n",
    "plt.plot(tstart, data_table['excess'],'.')\n",
    "plt.xlabel('Time [Day]')\n",
    "plt.ylabel('Excess counts')"
   ]
  },
  {
   "cell_type": "markdown",
   "metadata": {},
   "source": [
    "Now you have your simulated light curve!\n",
    "You can use your fitting tool for fitting and check how well we could regenrate the injected temporal profile."
   ]
  },
  {
   "cell_type": "code",
   "execution_count": null,
   "metadata": {},
   "outputs": [],
   "source": []
  }
 ],
 "metadata": {
  "kernelspec": {
   "display_name": "Python 3",
   "language": "python",
   "name": "python3"
  },
  "language_info": {
   "codemirror_mode": {
    "name": "ipython",
    "version": 3
   },
   "file_extension": ".py",
   "mimetype": "text/x-python",
   "name": "python",
   "nbconvert_exporter": "python",
   "pygments_lexer": "ipython3",
   "version": "3.7.0"
  }
 },
 "nbformat": 4,
 "nbformat_minor": 4
}
