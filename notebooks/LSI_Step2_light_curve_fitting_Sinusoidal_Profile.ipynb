{
 "cells": [
  {
   "cell_type": "markdown",
   "metadata": {},
   "source": [
    "# Step 1:  Light curve simulation\n",
    "# Step 2: Fitting the simuated light curve (Below)"
   ]
  },
  {
   "cell_type": "markdown",
   "metadata": {},
   "source": [
    "## Setup"
   ]
  },
  {
   "cell_type": "code",
   "execution_count": 26,
   "metadata": {},
   "outputs": [],
   "source": [
    "%matplotlib inline\n",
    "import matplotlib.pyplot as plt\n",
    "import numpy as np\n",
    "import astropy.units as u\n",
    "from astropy.coordinates import SkyCoord, Angle, SkyOffsetFrame\n",
    "from astropy.time import Time\n",
    "from regions import CircleSkyRegion\n",
    "\n",
    "import logging\n",
    "\n",
    "log = logging.getLogger(__name__)"
   ]
  },
  {
   "cell_type": "markdown",
   "metadata": {},
   "source": [
    "And some gammapy specific imports"
   ]
  },
  {
   "cell_type": "code",
   "execution_count": 27,
   "metadata": {},
   "outputs": [],
   "source": [
    "from gammapy.data import Observation\n",
    "from gammapy.irf import load_cta_irfs\n",
    "from gammapy.datasets import SpectrumDataset, Datasets\n",
    "from gammapy.modeling.models import (\n",
    "    PowerLawSpectralModel,\n",
    "    ExpDecayTemporalModel,\n",
    "    PointSpatialModel,\n",
    "    SkyModel,\n",
    "    Models,\n",
    ")\n",
    "from gammapy.maps import MapAxis\n",
    "from gammapy.estimators import LightCurveEstimator\n",
    "from gammapy.makers import SpectrumDatasetMaker\n",
    "from gammapy.modeling import Fit\n",
    "from gammapy.modeling.models import LightCurveTemplateTemporalModel\n",
    "from scipy.optimize import curve_fit"
   ]
  },
  {
   "cell_type": "markdown",
   "metadata": {},
   "source": [
    "## Simulating a light curve\n",
    "\n",
    "We will simulate 10 datasets using an `PowerLawSpectralModel` and a `ExpDecayTemporalModel`. The important thing to note here is how to attach a different `GTI` to each dataset."
   ]
  },
  {
   "cell_type": "code",
   "execution_count": 28,
   "metadata": {},
   "outputs": [],
   "source": [
    "# Loading IRFs\n",
    "irfs = load_cta_irfs(\"/Users/sonal/PostDocWork/SummerStudent_Helena/Prod5-North-20deg-AverageAz-4LSTs09MSTs.18000s-v0.1.fits\")\n",
    "#irfs = load_cta_irfs('/Users/sonal/PostDocWork/gammapy-tutorials/datasets/cta-1dc/caldb/data/cta/1dc/bcf/South_z20_50h/irf_file.fits')"
   ]
  },
  {
   "cell_type": "code",
   "execution_count": 29,
   "metadata": {},
   "outputs": [],
   "source": [
    "# Reconstructed and true energy axis\n",
    "\n",
    "#center = SkyCoord(0.0, 0.0, unit=\"deg\", frame=\"galactic\")\n",
    "center = SkyCoord(135.67, 01.086, unit=\"deg\", frame=\"galactic\")  #LS I +61° 303\n",
    "\n",
    "energy_axis = MapAxis.from_edges(\n",
    "    np.logspace(-0.5, 1.0, 10), unit=\"TeV\", name=\"energy\", interp=\"log\"\n",
    ")\n",
    "energy_axis_true = MapAxis.from_edges(\n",
    "    np.logspace(-1.2, 2.0, 31), unit=\"TeV\", name=\"energy_true\", interp=\"log\"\n",
    ")\n",
    "\n",
    "on_region_radius = Angle(\"0.11 deg\")\n",
    "on_region = CircleSkyRegion(center=center, radius=on_region_radius)"
   ]
  },
  {
   "cell_type": "code",
   "execution_count": 30,
   "metadata": {},
   "outputs": [],
   "source": [
    "# Pointing position\n",
    "pointing = SkyCoord(135.67+0.5, 01.086+0.5, unit=\"deg\", frame=\"galactic\")\n"
   ]
  },
  {
   "cell_type": "markdown",
   "metadata": {},
   "source": [
    "Note that observations are usually conducted in  Wobble mode, in which the source is not in the center of the camera. This allows to have a symmetrical sky position from which background can be estimated."
   ]
  },
  {
   "cell_type": "code",
   "execution_count": 31,
   "metadata": {},
   "outputs": [
    {
     "name": "stdout",
     "output_type": "stream",
     "text": [
      "LightCurveTemplateTemporalModel model summary:\n",
      "Start time: 59215.0 MJD\n",
      "End time: 59364.69696969697 MJD\n",
      "Norm min: 6.293616306246586e-05\n",
      "Norm max: 0.9999370638369376\n",
      "\n"
     ]
    }
   ],
   "source": [
    "# Define the source model: A combination of spectral and temporal model\n",
    "\n",
    "\n",
    "gti_t0 = Time(\"2021-01-01\") \n",
    "spectral_model = PowerLawSpectralModel(\n",
    "    index=3, amplitude=\"1e-11 cm-2 s-1 TeV-1\", reference=\"1 TeV\"\n",
    ")\n",
    "\n",
    "\n",
    "temporal_model = LightCurveTemplateTemporalModel.read('TemporalProfile_Sinusoidal_Period30d.fits')\n",
    "\n",
    "model_simu = SkyModel(\n",
    "    spectral_model=spectral_model,\n",
    "    temporal_model=temporal_model,\n",
    "    name=\"model-simu\",\n",
    ")\n",
    "\n",
    "print(temporal_model)"
   ]
  },
  {
   "cell_type": "code",
   "execution_count": 32,
   "metadata": {},
   "outputs": [
    {
     "data": {
      "text/html": [
       "<i>Table length=3</i>\n",
       "<table id=\"table140487043354128\" class=\"table-striped table-bordered table-condensed\">\n",
       "<thead><tr><th>name</th><th>value</th><th>unit</th><th>min</th><th>max</th><th>frozen</th><th>error</th></tr></thead>\n",
       "<thead><tr><th>str9</th><th>float64</th><th>str14</th><th>float64</th><th>float64</th><th>bool</th><th>int64</th></tr></thead>\n",
       "<tr><td>index</td><td>3.0000e+00</td><td></td><td>nan</td><td>nan</td><td>False</td><td>0.000e+00</td></tr>\n",
       "<tr><td>amplitude</td><td>1.0000e-11</td><td>cm-2 s-1 TeV-1</td><td>nan</td><td>nan</td><td>False</td><td>0.000e+00</td></tr>\n",
       "<tr><td>reference</td><td>1.0000e+00</td><td>TeV</td><td>nan</td><td>nan</td><td>True</td><td>0.000e+00</td></tr>\n",
       "</table>"
      ],
      "text/plain": [
       "<Table length=3>\n",
       "   name     value         unit        min     max   frozen   error  \n",
       "   str9    float64       str14      float64 float64  bool    int64  \n",
       "--------- ---------- -------------- ------- ------- ------ ---------\n",
       "    index 3.0000e+00                    nan     nan  False 0.000e+00\n",
       "amplitude 1.0000e-11 cm-2 s-1 TeV-1     nan     nan  False 0.000e+00\n",
       "reference 1.0000e+00            TeV     nan     nan   True 0.000e+00"
      ]
     },
     "execution_count": 32,
     "metadata": {},
     "output_type": "execute_result"
    }
   ],
   "source": [
    "# Look at the model\n",
    "model_simu.parameters.to_table()"
   ]
  },
  {
   "cell_type": "markdown",
   "metadata": {},
   "source": [
    "Now, define the start and observation livetime wrt to the reference time, `gti_t0`"
   ]
  },
  {
   "cell_type": "code",
   "execution_count": 33,
   "metadata": {},
   "outputs": [
    {
     "name": "stdout",
     "output_type": "stream",
     "text": [
      "[ 0.          2.06896552  4.13793103  6.20689655  8.27586207 10.34482759\n",
      " 12.4137931  14.48275862 16.55172414 18.62068966 20.68965517 22.75862069\n",
      " 24.82758621 26.89655172 28.96551724 31.03448276 33.10344828 35.17241379\n",
      " 37.24137931 39.31034483 41.37931034 43.44827586 45.51724138 47.5862069\n",
      " 49.65517241 51.72413793 53.79310345 55.86206897 57.93103448 60.        ] d [60. 60. 60. 60. 60. 60. 60. 60. 60. 60. 60. 60. 60. 60. 60. 60. 60. 60.\n",
      " 60. 60. 60. 60. 60. 60. 60. 60. 60. 60. 60. 60.] min\n"
     ]
    }
   ],
   "source": [
    "n_obs = 30\n",
    "\n",
    "tstart = np.linspace(0,60,30) * u.d\n",
    "lvtm = np.zeros(n_obs)\n",
    "lvtm.fill(60)\n",
    "lvtm = lvtm * u.min\n",
    "print(tstart, lvtm)"
   ]
  },
  {
   "cell_type": "markdown",
   "metadata": {},
   "source": [
    "Now perform the simulations"
   ]
  },
  {
   "cell_type": "code",
   "execution_count": 34,
   "metadata": {},
   "outputs": [],
   "source": [
    "datasets = Datasets()\n",
    "\n",
    "\n",
    "empty = SpectrumDataset.create(\n",
    "    e_reco=energy_axis, e_true=energy_axis_true, region=on_region, name=\"empty\"\n",
    ")\n",
    "\n",
    "maker = SpectrumDatasetMaker(selection=[\"exposure\", \"background\", \"edisp\"])\n",
    "\n",
    "for i in range(n_obs):\n",
    "    obs = Observation.create(\n",
    "        pointing=pointing,\n",
    "        livetime=lvtm[i],\n",
    "        tstart=tstart[i],\n",
    "        irfs=irfs,\n",
    "        reference_time=gti_t0,\n",
    "        obs_id=i,\n",
    "    )\n",
    "    #print(obs)\n",
    "    empty_i = empty.copy(name=f\"dataset_{i}\")\n",
    "    #maker = SpectrumDatasetMaker(selection=[\"aeff\", \"background\", \"edisp\"])\n",
    "    dataset = maker.run(empty_i, obs)\n",
    "    dataset.models = model_simu\n",
    "    dataset.fake()\n",
    "    datasets.append(dataset)"
   ]
  },
  {
   "cell_type": "markdown",
   "metadata": {},
   "source": [
    "The reduced datasets have been successfully simulated. Let's take a quick look into our datasets."
   ]
  },
  {
   "cell_type": "code",
   "execution_count": 35,
   "metadata": {},
   "outputs": [
    {
     "data": {
      "text/html": [
       "<i>Table length=30</i>\n",
       "<table id=\"table140487048271184\" class=\"table-striped table-bordered table-condensed\">\n",
       "<thead><tr><th>name</th><th>counts</th><th>background</th><th>excess</th><th>sqrt_ts</th><th>npred</th><th>npred_background</th><th>npred_signal</th><th>exposure_min</th><th>exposure_max</th><th>livetime</th><th>ontime</th><th>counts_rate</th><th>background_rate</th><th>excess_rate</th><th>n_bins</th><th>n_fit_bins</th><th>stat_type</th><th>stat_sum</th></tr></thead>\n",
       "<thead><tr><th></th><th></th><th></th><th></th><th></th><th></th><th></th><th></th><th>m2 s</th><th>m2 s</th><th>s</th><th>s</th><th>1 / s</th><th>1 / s</th><th>1 / s</th><th></th><th></th><th></th><th></th></tr></thead>\n",
       "<thead><tr><th>str10</th><th>int64</th><th>float64</th><th>float64</th><th>float64</th><th>float64</th><th>float64</th><th>float64</th><th>float64</th><th>float64</th><th>float64</th><th>float64</th><th>float64</th><th>float64</th><th>float64</th><th>int64</th><th>int64</th><th>str4</th><th>float64</th></tr></thead>\n",
       "<tr><td>dataset_0</td><td>321</td><td>18.341005418072154</td><td>302.65899458192786</td><td>35.10384295247295</td><td>353.92934755297483</td><td>18.341005418072154</td><td>335.5883421349027</td><td>342326351.5317853</td><td>3391149743.6206517</td><td>3600.0000000000005</td><td>3600.0000000000005</td><td>0.08916666666666666</td><td>0.0050947237272422645</td><td>0.0840719429394244</td><td>9</td><td>9</td><td>cash</td><td>-2109.744992716811</td></tr>\n",
       "<tr><td>dataset_1</td><td>507</td><td>18.341005418072005</td><td>488.65899458192797</td><td>48.87253760642897</td><td>494.03877302062284</td><td>18.341005418072005</td><td>475.6977676025508</td><td>342326351.5317825</td><td>3391149743.6206236</td><td>3599.999999999971</td><td>3599.999999999971</td><td>0.14083333333333448</td><td>0.0050947237272422645</td><td>0.1357386096060922</td><td>9</td><td>9</td><td>cash</td><td>-3706.701226994862</td></tr>\n",
       "<tr><td>dataset_2</td><td>596</td><td>18.34100541807215</td><td>577.6589945819278</td><td>54.71887111972635</td><td>607.9123476346858</td><td>18.34100541807215</td><td>589.5713422166135</td><td>342326351.53178525</td><td>3391149743.6206512</td><td>3600.0</td><td>3600.0</td><td>0.16555555555555557</td><td>0.005094723727242264</td><td>0.16046083182831328</td><td>9</td><td>9</td><td>cash</td><td>-4627.659301034417</td></tr>\n",
       "<tr><td>dataset_3</td><td>629</td><td>18.34100541807215</td><td>610.6589945819278</td><td>56.7952630903637</td><td>674.5566413599513</td><td>18.34100541807215</td><td>656.2156359418792</td><td>342326351.53178525</td><td>3391149743.6206512</td><td>3600.0</td><td>3600.0</td><td>0.17472222222222222</td><td>0.005094723727242264</td><td>0.16962749849497993</td><td>9</td><td>9</td><td>cash</td><td>-4876.478851998151</td></tr>\n",
       "<tr><td>dataset_4</td><td>701</td><td>18.341005418071557</td><td>682.6589945819285</td><td>61.17748596468144</td><td>681.6866569416806</td><td>18.341005418071557</td><td>663.3456515236089</td><td>342326351.5317742</td><td>3391149743.6205416</td><td>3599.9999999998836</td><td>3599.9999999998836</td><td>0.1947222222222285</td><td>0.005094723727242264</td><td>0.18962749849498628</td><td>9</td><td>9</td><td>cash</td><td>-5624.503332711122</td></tr>\n",
       "<tr><td>dataset_5</td><td>678</td><td>18.34100541807215</td><td>659.6589945819278</td><td>59.79843527180916</td><td>627.9839933738155</td><td>18.34100541807215</td><td>609.6429879557433</td><td>342326351.53178525</td><td>3391149743.6206512</td><td>3600.0</td><td>3600.0</td><td>0.18833333333333332</td><td>0.005094723727242264</td><td>0.18323860960609106</td><td>9</td><td>9</td><td>cash</td><td>-5393.906118863865</td></tr>\n",
       "<tr><td>dataset_6</td><td>537</td><td>18.34100541807215</td><td>518.6589945819278</td><td>50.88642619373339</td><td>523.337474545119</td><td>18.34100541807215</td><td>504.9964691270468</td><td>342326351.53178525</td><td>3391149743.6206512</td><td>3600.0</td><td>3600.0</td><td>0.14916666666666667</td><td>0.005094723727242264</td><td>0.14407194293942438</td><td>9</td><td>9</td><td>cash</td><td>-4037.7107668462527</td></tr>\n",
       "<tr><td>dataset_7</td><td>374</td><td>18.34100541807215</td><td>355.65899458192786</td><td>39.293627487069365</td><td>387.02201587404903</td><td>18.34100541807215</td><td>368.68101045597695</td><td>342326351.53178525</td><td>3391149743.6206512</td><td>3600.0</td><td>3600.0</td><td>0.10388888888888889</td><td>0.005094723727242264</td><td>0.09879416516164663</td><td>9</td><td>9</td><td>cash</td><td>-2532.4725177654122</td></tr>\n",
       "<tr><td>dataset_8</td><td>276</td><td>18.34100541807215</td><td>257.65899458192786</td><td>31.325682795945063</td><td>244.35771046558114</td><td>18.34100541807215</td><td>226.01670504750896</td><td>342326351.53178525</td><td>3391149743.6206512</td><td>3600.0</td><td>3600.0</td><td>0.07666666666666666</td><td>0.005094723727242264</td><td>0.0715719429394244</td><td>9</td><td>9</td><td>cash</td><td>-1703.3884506185732</td></tr>\n",
       "<tr><td>...</td><td>...</td><td>...</td><td>...</td><td>...</td><td>...</td><td>...</td><td>...</td><td>...</td><td>...</td><td>...</td><td>...</td><td>...</td><td>...</td><td>...</td><td>...</td><td>...</td><td>...</td><td>...</td></tr>\n",
       "<tr><td>dataset_20</td><td>630</td><td>18.34100541807215</td><td>611.6589945819278</td><td>56.85748396145885</td><td>580.950271867645</td><td>18.34100541807215</td><td>562.609266449573</td><td>342326351.53178525</td><td>3391149743.6206512</td><td>3600.0</td><td>3600.0</td><td>0.175</td><td>0.005094723727242264</td><td>0.16990527627275773</td><td>9</td><td>9</td><td>cash</td><td>-4923.846076377142</td></tr>\n",
       "<tr><td>dataset_21</td><td>485</td><td>18.34100541806978</td><td>466.65899458193024</td><td>47.36497996685308</td><td>457.5998277227809</td><td>18.34100541806978</td><td>439.2588223047112</td><td>342326351.53174096</td><td>3391149743.6202126</td><td>3599.9999999995343</td><td>3599.9999999995343</td><td>0.13472222222223965</td><td>0.0050947237272422645</td><td>0.12962749849499738</td><td>9</td><td>9</td><td>cash</td><td>-3564.627090241725</td></tr>\n",
       "<tr><td>dataset_22</td><td>300</td><td>18.34100541807215</td><td>281.65899458192786</td><td>33.36866679692117</td><td>314.80874435464114</td><td>18.34100541807215</td><td>296.467738936569</td><td>342326351.53178525</td><td>3391149743.6206512</td><td>3600.0</td><td>3600.0</td><td>0.08333333333333333</td><td>0.005094723727242264</td><td>0.07823860960609107</td><td>9</td><td>9</td><td>cash</td><td>-1879.3686328263343</td></tr>\n",
       "<tr><td>dataset_23</td><td>203</td><td>18.34100541807215</td><td>184.65899458192786</td><td>24.631952583143715</td><td>178.9213920827842</td><td>18.34100541807215</td><td>160.58038666471202</td><td>342326351.53178525</td><td>3391149743.6206512</td><td>3600.0</td><td>3600.0</td><td>0.05638888888888889</td><td>0.005094723727242264</td><td>0.05129416516164663</td><td>9</td><td>9</td><td>cash</td><td>-1107.9685133652595</td></tr>\n",
       "<tr><td>dataset_24</td><td>87</td><td>18.34100541807215</td><td>68.65899458192786</td><td>11.556806983441675</td><td>75.09356272132655</td><td>18.34100541807215</td><td>56.752557303254385</td><td>342326351.53178525</td><td>3391149743.6206512</td><td>3600.0</td><td>3600.0</td><td>0.024166666666666666</td><td>0.005094723727242264</td><td>0.019071942939424404</td><td>9</td><td>9</td><td>cash</td><td>-312.32388589639515</td></tr>\n",
       "<tr><td>dataset_25</td><td>15</td><td>18.34100541807215</td><td>-3.3410054180721502</td><td>-0.8058152877147604</td><td>22.621040144612333</td><td>18.34100541807215</td><td>4.280034726540182</td><td>342326351.53178525</td><td>3391149743.6206512</td><td>3600.0</td><td>3600.0</td><td>0.004166666666666667</td><td>0.005094723727242264</td><td>-0.0009280570605755973</td><td>9</td><td>9</td><td>cash</td><td>11.716499035064711</td></tr>\n",
       "<tr><td>dataset_26</td><td>46</td><td>18.34100541807215</td><td>27.65899458192785</td><td>5.410749020838117</td><td>31.08326326067866</td><td>18.34100541807215</td><td>12.742257842606506</td><td>342326351.53178525</td><td>3391149743.6206512</td><td>3600.0</td><td>3600.0</td><td>0.012777777777777779</td><td>0.005094723727242264</td><td>0.007683054050535514</td><td>9</td><td>9</td><td>cash</td><td>-120.60779187744608</td></tr>\n",
       "<tr><td>dataset_27</td><td>93</td><td>18.34100541807215</td><td>74.65899458192786</td><td>12.354983176703081</td><td>98.90316748197326</td><td>18.34100541807215</td><td>80.5621620639011</td><td>342326351.53178525</td><td>3391149743.6206512</td><td>3600.0</td><td>3600.0</td><td>0.025833333333333333</td><td>0.005094723727242264</td><td>0.02073860960609107</td><td>9</td><td>9</td><td>cash</td><td>-372.91145635573184</td></tr>\n",
       "<tr><td>dataset_28</td><td>214</td><td>18.34100541807215</td><td>195.65899458192786</td><td>25.69451557621477</td><td>213.56751432066656</td><td>18.34100541807215</td><td>195.2265089025944</td><td>342326351.53178525</td><td>3391149743.6206512</td><td>3600.0</td><td>3600.0</td><td>0.059444444444444446</td><td>0.005094723727242264</td><td>0.054349720717202184</td><td>9</td><td>9</td><td>cash</td><td>-1185.586365472244</td></tr>\n",
       "<tr><td>dataset_29</td><td>320</td><td>18.34100541807215</td><td>301.65899458192786</td><td>35.022254422912034</td><td>353.9293475529261</td><td>18.34100541807215</td><td>335.588342134854</td><td>342326351.53178525</td><td>3391149743.6206512</td><td>3600.0</td><td>3600.0</td><td>0.08888888888888889</td><td>0.005094723727242264</td><td>0.08379416516164663</td><td>9</td><td>9</td><td>cash</td><td>-2071.0439587124797</td></tr>\n",
       "</table>"
      ],
      "text/plain": [
       "<Table length=30>\n",
       "   name    counts     background     ... stat_type       stat_sum     \n",
       "                                     ...                              \n",
       "  str10    int64       float64       ...    str4         float64      \n",
       "---------- ------ ------------------ ... --------- -------------------\n",
       " dataset_0    321 18.341005418072154 ...      cash  -2109.744992716811\n",
       " dataset_1    507 18.341005418072005 ...      cash  -3706.701226994862\n",
       " dataset_2    596  18.34100541807215 ...      cash  -4627.659301034417\n",
       " dataset_3    629  18.34100541807215 ...      cash  -4876.478851998151\n",
       " dataset_4    701 18.341005418071557 ...      cash  -5624.503332711122\n",
       " dataset_5    678  18.34100541807215 ...      cash  -5393.906118863865\n",
       " dataset_6    537  18.34100541807215 ...      cash -4037.7107668462527\n",
       " dataset_7    374  18.34100541807215 ...      cash -2532.4725177654122\n",
       " dataset_8    276  18.34100541807215 ...      cash -1703.3884506185732\n",
       "       ...    ...                ... ...       ...                 ...\n",
       "dataset_20    630  18.34100541807215 ...      cash  -4923.846076377142\n",
       "dataset_21    485  18.34100541806978 ...      cash  -3564.627090241725\n",
       "dataset_22    300  18.34100541807215 ...      cash -1879.3686328263343\n",
       "dataset_23    203  18.34100541807215 ...      cash -1107.9685133652595\n",
       "dataset_24     87  18.34100541807215 ...      cash -312.32388589639515\n",
       "dataset_25     15  18.34100541807215 ...      cash  11.716499035064711\n",
       "dataset_26     46  18.34100541807215 ...      cash -120.60779187744608\n",
       "dataset_27     93  18.34100541807215 ...      cash -372.91145635573184\n",
       "dataset_28    214  18.34100541807215 ...      cash  -1185.586365472244\n",
       "dataset_29    320  18.34100541807215 ...      cash -2071.0439587124797"
      ]
     },
     "execution_count": 35,
     "metadata": {},
     "output_type": "execute_result"
    }
   ],
   "source": [
    "datasets.info_table()"
   ]
  },
  {
   "cell_type": "code",
   "execution_count": 36,
   "metadata": {},
   "outputs": [],
   "source": [
    "#datasets.info_table().keys()"
   ]
  },
  {
   "cell_type": "code",
   "execution_count": 37,
   "metadata": {},
   "outputs": [
    {
     "data": {
      "text/plain": [
       "Text(0, 0.5, 'Excess counts')"
      ]
     },
     "execution_count": 37,
     "metadata": {},
     "output_type": "execute_result"
    },
    {
     "data": {
      "image/png": "[encoded data removed]",
      "text/plain": [
       "<Figure size 432x288 with 1 Axes>"
      ]
     },
     "metadata": {
      "needs_background": "light"
     },
     "output_type": "display_data"
    }
   ],
   "source": [
    "data_table = datasets.info_table()\n",
    "y_data_simu=data_table['excess']\n",
    "plt.plot(tstart, y_data_simu,'.')\n",
    "plt.xlabel('Time [Day]')\n",
    "plt.ylabel('Excess counts')"
   ]
  },
  {
   "cell_type": "markdown",
   "metadata": {},
   "source": [
    "## Step 2: Fitting the light curve"
   ]
  },
  {
   "cell_type": "code",
   "execution_count": 38,
   "metadata": {},
   "outputs": [],
   "source": [
    "#Define the function that we want to fit (Sinusoidal in our case)\n",
    "\n",
    "def my_sin(t, freq, amplitude, phase, offset):\n",
    "    return np.sin(t * freq + phase) * amplitude + offset"
   ]
  },
  {
   "cell_type": "code",
   "execution_count": 39,
   "metadata": {},
   "outputs": [
    {
     "name": "stdout",
     "output_type": "stream",
     "text": [
      "(array([ 2.09451807e-01,  3.35161312e+02, -3.18264836e-02,  3.38610971e+02]), array([[ 8.45642936e-07,  6.32344667e-04, -2.52619947e-05,\n",
      "         3.99468866e-05],\n",
      "       [ 6.32344667e-04,  3.56055872e+01, -1.86838389e-02,\n",
      "         6.44534820e-02],\n",
      "       [-2.52619947e-05, -1.86838389e-02,  1.04787141e-03,\n",
      "        -4.47272877e-03],\n",
      "       [ 3.99468866e-05,  6.44534820e-02, -4.47272877e-03,\n",
      "         1.70195556e+01]]))\n"
     ]
    },
    {
     "data": {
      "image/png": "[encoded data removed]",
      "text/plain": [
       "<Figure size 432x288 with 1 Axes>"
      ]
     },
     "metadata": {
      "needs_background": "light"
     },
     "output_type": "display_data"
    }
   ],
   "source": [
    "t = np.linspace(0,60,30)\n",
    "\n",
    "\n",
    "g_freq = 0.25\n",
    "g_amplitude = 3*np.max(y_data_simu)/(2**0.5) \n",
    "g_phase = 0\n",
    "g_offset = np.mean(y_data_simu)\n",
    "p0=[g_freq, g_amplitude, g_phase, g_offset]\n",
    "\n",
    "\n",
    "#Do the fitting\n",
    "fit = curve_fit(my_sin, t, y_data_simu, p0=p0)\n",
    "print(fit)\n",
    "\n",
    "#This is the model with our guess parameters, to see how the function with initial paramaters looks\n",
    "y_guess = my_sin(t, *p0)\n",
    "\n",
    "# recreate the fitted curve using the optimized parameters\n",
    "y_fit = my_sin(t, *fit[0])\n",
    "\n",
    "plt.plot(y_data_simu, '.', label='Simulated data')\n",
    "plt.plot(y_guess, label='first guess')\n",
    "plt.plot(y_fit, label='after fitting')\n",
    "\n",
    "plt.legend(loc='lower left')\n",
    "plt.xlabel('Time [Day]')\n",
    "plt.ylabel('Excess counts')\n",
    "plt.show()"
   ]
  },
  {
   "cell_type": "code",
   "execution_count": null,
   "metadata": {},
   "outputs": [],
   "source": []
  },
  {
   "cell_type": "code",
   "execution_count": null,
   "metadata": {},
   "outputs": [],
   "source": []
  }
 ],
 "metadata": {
  "kernelspec": {
   "display_name": "Python 3",
   "language": "python",
   "name": "python3"
  },
  "language_info": {
   "codemirror_mode": {
    "name": "ipython",
    "version": 3
   },
   "file_extension": ".py",
   "mimetype": "text/x-python",
   "name": "python",
   "nbconvert_exporter": "python",
   "pygments_lexer": "ipython3",
   "version": "3.7.0"
  }
 },
 "nbformat": 4,
 "nbformat_minor": 4
}
